{
 "cells": [
  {
   "cell_type": "code",
   "execution_count": null,
   "metadata": {
    "collapsed": false
   },
   "outputs": [],
   "source": [
    "# import the needed modules\n",
    "import os\n",
    "from matplotlib.pyplot import imshow\n",
    "import scipy.io\n",
    "import scipy.misc\n",
    "import numpy as np\n",
    "from PIL import Image\n",
    "import image\n",
    "\n",
    "from keras import backend as K\n",
    "from keras.models import load_model\n",
    "\n"
   ]
  },
  {
   "cell_type": "code",
   "execution_count": null,
   "metadata": {
    "collapsed": true
   },
   "outputs": [],
   "source": [
    "# The below provided fucntions will be used from yolo_utils.py\n",
    "from yolo_utils import read_classes, read_anchors, generate_colors, preprocess_image, draw_boxes"
   ]
  },
  {
   "cell_type": "code",
   "execution_count": null,
   "metadata": {
    "collapsed": true
   },
   "outputs": [],
   "source": [
    "# The below functions from the yad2k library will be used\n",
    "from yad2k.models.keras_yolo import yolo_head, yolo_eval\n",
    "#Provide the name of the image that you saved in the images folder to be fed through the network\n",
    "input_image_name = \"test45.jpg\"\n",
    "#Obtaining the dimensions of the input image\n",
    "input_image = Image.open(\"images/\" + input_image_name)\n",
    "width, height = input_image.size\n",
    "width = np.array(width, dtype=float)\n",
    "height = np.array(height, dtype=float)"
   ]
  },
  {
   "cell_type": "code",
   "execution_count": null,
   "metadata": {
    "collapsed": true
   },
   "outputs": [],
   "source": [
    "#Assign the shape of the input image to image_shapr variable\n",
    "image_shape = (height, width)\n",
    "#Loading the classes and the anchor boxes that are provided in the madel_data folder\n",
    "class_names = read_classes(\"model_data/coco_classes.txt\")\n",
    "anchors = read_anchors(\"model_data/yolo_anchors.txt\")"
   ]
  },
  {
   "cell_type": "code",
   "execution_count": null,
   "metadata": {
    "collapsed": true
   },
   "outputs": [],
   "source": [
    "#Load the pretrained model. Please refer the README file to get info on how to obtain the yolo.h5 file\n",
    "yolo_model = load_model(\"model_data/yolo.h5\")\n",
    "#Print the summery of the model\n",
    "yolo_model.summary()#Convert final layer features to bounding box parameters\n",
    "yolo_outputs = yolo_head(yolo_model.output, anchors, len(class_names))\n",
    "\n",
    "#Now yolo_eval function selects the best boxes using filtering and non-max suppression techniques.\n",
    "# If you want to dive in more to see how this works, refer keras_yolo.py file in yad2k/models\n",
    "boxes, scores, classes = yolo_eval(yolo_outputs, image_shape)\n",
    "\n",
    "\n",
    "# Initiate a session\n",
    "sess = K.get_session()\n",
    "#Preprocess the input image before feeding into the convolutional network\n",
    "image, image_data = preprocess_image(\"images/\" + input_image_name, model_image_size = (608, 608))\n",
    "\n",
    "#Run the session\n",
    "out_scores, out_boxes, out_classes = sess.run([scores, boxes, classes],feed_dict={yolo_model.input:image_data,K.learning_phase(): 0})\n",
    "#Print the results\n",
    "print('Found {} boxes for {}'.format(len(out_boxes), input_image_name))\n",
    "#Produce the colors for the bounding boxs\n",
    "colors = generate_colors(class_names)\n",
    "#Draw the bounding boxes\n",
    "draw_boxes(image, out_scores, out_boxes, out_classes, class_names, colors)\n",
    "#Apply the predicted bounding boxes to the image and save it in out/\n",
    "image.save(os.path.join(\"out\", input_image_name), quality=90)\n",
    "output_image = scipy.misc.imread(os.path.join(\"out\", input_image_name))\n",
    "imshow(output_image)"
   ]
  },
  {
   "cell_type": "code",
   "execution_count": null,
   "metadata": {
    "collapsed": true
   },
   "outputs": [],
   "source": []
  }
 ],
 "metadata": {
  "anaconda-cloud": {},
  "kernelspec": {
   "display_name": "Python [conda env:py27]",
   "language": "python",
   "name": "conda-env-py27-py"
  },
  "language_info": {
   "codemirror_mode": {
    "name": "ipython",
    "version": 2
   },
   "file_extension": ".py",
   "mimetype": "text/x-python",
   "name": "python",
   "nbconvert_exporter": "python",
   "pygments_lexer": "ipython2",
   "version": "2.7.14"
  }
 },
 "nbformat": 4,
 "nbformat_minor": 1
}
